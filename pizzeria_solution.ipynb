{
 "cells": [
  {
   "cell_type": "markdown",
   "metadata": {},
   "source": [
    "## Question 2"
   ]
  },
  {
   "cell_type": "code",
   "execution_count": 1,
   "metadata": {},
   "outputs": [],
   "source": [
    "import numpy as np"
   ]
  },
  {
   "cell_type": "code",
   "execution_count": 4,
   "metadata": {},
   "outputs": [],
   "source": [
    "def bug(dim,N,x,y,c):\n",
    "    k = -1\n",
    "    if 1< dim< 10000:\n",
    "        message1 = ''\n",
    "    else:\n",
    "        message1 = 'wrong dimension'\n",
    "        k = 0\n",
    "    if 1< N< 10000:\n",
    "        message2 = ''\n",
    "    else:\n",
    "        message2 = 'wrong pizzaria number'\n",
    "        k = 0\n",
    "        \n",
    "    if 1<= x<= dim and 1<= y<= dim:\n",
    "        message3 = ''\n",
    "    else:\n",
    "        message3 = 'wrong coordinate'\n",
    "        k = 0\n",
    "    if 1<= c<= 100:\n",
    "        message4 = ''\n",
    "    else:\n",
    "        message4 = 'wrong capacity'\n",
    "        k = 0\n",
    "        \n",
    "    return message1+message2+message3+message4, k\n",
    "\n",
    "def build_block(dim, x,y,c):\n",
    "    block = np.zeros((dim,dim))\n",
    "    for i in range(c + 1):\n",
    "        # To get vertical and horizontal\n",
    "        if (x+i) < dim: # upper bound\n",
    "            block[x+i][y] = 1\n",
    "        if (x-i) >= 0: # lower bound\n",
    "            block[x-i][y] = 1\n",
    "        if (y+i) < dim:\n",
    "            block[x][y+i] = 1\n",
    "        if (y-i) >= 0:\n",
    "            block[x][y-i] = 1\n",
    "\n",
    "    for i in range(1,c):\n",
    "        # get diagonals \n",
    "        if (x+i < dim) and (y+i < dim):\n",
    "            block[x+i][y+i] = 1\n",
    "        if (x-i >= 0) and (y-i >= 0): \n",
    "            block[x-i][y-i] = 1\n",
    "        if (x+i < dim) and (y-i >= 0):\n",
    "            block[x+i][y-i] = 1\n",
    "        if (x-i >= 0) and (y+i < dim):\n",
    "            block[x-i][y+i] = 1\n",
    "\n",
    "    # flip block upside down to match indexing in question. \n",
    "    # Default indexing (0,0) on top left corner\n",
    "    # Question requires indexing (0,0) at bottom left corner\n",
    "\n",
    "    block = np.flipud(block)\n",
    "\n",
    "\n",
    "    return block\n",
    "\n",
    "def pizzerias (file_input):\n",
    "    # text processing\n",
    "    text = open(file_input).read().split('\\n')\n",
    "    line0 = text[0].split()\n",
    "    \n",
    "    message1 = 'The cordinates must be in between -10000 and 10000'\n",
    "    message2 = 'The number of station must be in between 1 and 5000'\n",
    "    # zearth coordinate\n",
    "    dim = int(line0[0])\n",
    "    \n",
    "    N = int(line0[1])\n",
    "    \n",
    "    \n",
    "    pizza_list = []\n",
    "    \n",
    "    block = np.zeros((dim,dim))\n",
    "\n",
    "    # station coordinate's extraction\n",
    "    for line in text[1:]:\n",
    "        l = line.split()\n",
    "        cord_i = [float(a) for a in l]\n",
    "        pizza_list.append(cord_i)\n",
    "    \n",
    "    block = np.zeros((dim,dim))\n",
    "    for elt in pizza_list:\n",
    "        x,y,c = elt\n",
    "        x = int(x) - 1\n",
    "        y = int(y) - 1\n",
    "        c = int(c)\n",
    "        message, k = bug(dim, N, x+1,y+1,c)\n",
    "        if k == 0:\n",
    "            print(message)\n",
    "            return\n",
    "        block += build_block(dim,x,y,c)\n",
    "    print(np.round(np.max(block),2)) \n",
    "    "
   ]
  },
  {
   "cell_type": "code",
   "execution_count": 5,
   "metadata": {},
   "outputs": [
    {
     "name": "stdout",
     "output_type": "stream",
     "text": [
      "2.0\n"
     ]
    }
   ],
   "source": [
    "pizzerias('task2_test.txt') "
   ]
  },
  {
   "cell_type": "code",
   "execution_count": null,
   "metadata": {},
   "outputs": [],
   "source": []
  }
 ],
 "metadata": {
  "kernelspec": {
   "display_name": "Python 3",
   "language": "python",
   "name": "python3"
  },
  "language_info": {
   "codemirror_mode": {
    "name": "ipython",
    "version": 3
   },
   "file_extension": ".py",
   "mimetype": "text/x-python",
   "name": "python",
   "nbconvert_exporter": "python",
   "pygments_lexer": "ipython3",
   "version": "3.7.3"
  }
 },
 "nbformat": 4,
 "nbformat_minor": 2
}
