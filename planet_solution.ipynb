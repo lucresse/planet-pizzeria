{
 "cells": [
  {
   "cell_type": "markdown",
   "metadata": {},
   "source": [
    "## Question 1"
   ]
  },
  {
   "cell_type": "code",
   "execution_count": 8,
   "metadata": {},
   "outputs": [],
   "source": [
    "import numpy as np\n",
    "from Graph import *"
   ]
  },
  {
   "cell_type": "code",
   "execution_count": 9,
   "metadata": {},
   "outputs": [],
   "source": [
    "def planet (file_input):\n",
    "    # text processing\n",
    "    text = open(file_input).read().split('\\n')\n",
    "    line0 = text[0].split()\n",
    "    \n",
    "    message1 = 'The cordinates must be in between -10000 and 10000'\n",
    "    message2 = 'The number of station must be in between 1 and 5000'\n",
    "    # zearth coordinate\n",
    "    zearth = [float(a) for a in line0]\n",
    "    for elt in zearth:\n",
    "        if elt < 10000 and elt > -10000:\n",
    "            pass\n",
    "        else:\n",
    "            print(message1)\n",
    "            return\n",
    "    # number of stations\n",
    "    station_num = int(text[1])\n",
    "    if 1<station_num<5000:\n",
    "        pass\n",
    "    else:\n",
    "        print(message2)\n",
    "        return\n",
    "    earth =[0.0, 0.0, 0.0]\n",
    "    station_list = []\n",
    "    station_list.append(earth)\n",
    "    station_list.append(zearth)\n",
    "\n",
    "    # station coordinate's extraction\n",
    "    for line in text[2:]:\n",
    "        l = line.split()\n",
    "        station_i = [float(a) for a in l]\n",
    "        for elt in station_i:\n",
    "            if elt < 10000 and elt > -10000:\n",
    "                pass\n",
    "            else:\n",
    "                print(message1)\n",
    "                return \n",
    "        station_list.append(station_i)\n",
    "\n",
    "    # distance between two stations\n",
    "    distance = lambda point1, point2: np.linalg.norm(np.asarray(point1) - np.asarray(point2))\n",
    "\n",
    "    # construction of the graph\n",
    "    graph = Graph(station_num +2) #origin and end point\n",
    "\n",
    "    # feeding graph with weight and position of each station\n",
    "    for i,p1 in enumerate(station_list):\n",
    "        for j,p2 in enumerate(station_list):\n",
    "            if (i !=j) and (i>j):\n",
    "                weight = distance(p1,p2)\n",
    "                graph.add_edge(i,j,weight)\n",
    "\n",
    "    # set of minimum spanning tree\n",
    "    result = graph.find_MST()\n",
    "\n",
    "    # shortest path going from earth to zearth\n",
    "    path = graph.find_shortest_path(0,1,result)\n",
    "\n",
    "    # getting the maximum weight of the best path\n",
    "    weight_max = graph.get_max_weight(path)\n",
    "\n",
    "    print(np.round(weight_max, 2))\n",
    "    "
   ]
  },
  {
   "cell_type": "code",
   "execution_count": 10,
   "metadata": {},
   "outputs": [
    {
     "name": "stdout",
     "output_type": "stream",
     "text": [
      "2.0\n"
     ]
    }
   ],
   "source": [
    "planet('task1_test1.txt')"
   ]
  },
  {
   "cell_type": "code",
   "execution_count": 7,
   "metadata": {},
   "outputs": [
    {
     "name": "stdout",
     "output_type": "stream",
     "text": [
      "1.73\n"
     ]
    }
   ],
   "source": [
    "planet('task1_test2.txt')"
   ]
  },
  {
   "cell_type": "code",
   "execution_count": null,
   "metadata": {},
   "outputs": [],
   "source": []
  }
 ],
 "metadata": {
  "kernelspec": {
   "display_name": "Python 3",
   "language": "python",
   "name": "python3"
  },
  "language_info": {
   "codemirror_mode": {
    "name": "ipython",
    "version": 3
   },
   "file_extension": ".py",
   "mimetype": "text/x-python",
   "name": "python",
   "nbconvert_exporter": "python",
   "pygments_lexer": "ipython3",
   "version": "3.7.3"
  }
 },
 "nbformat": 4,
 "nbformat_minor": 2
}
